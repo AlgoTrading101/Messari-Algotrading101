{
 "cells": [
  {
   "cell_type": "code",
   "execution_count": null,
   "id": "e78170ac",
   "metadata": {},
   "outputs": [],
   "source": [
    "import requests\n",
    "import pandas as pd\n",
    "\n",
    "url = 'https://data.messari.io/api/v1/'\n",
    "headers = {\"x-messari-api-key\": \"74af9245-00a7-420e-be15-8e0fef5d68a5\"}"
   ]
  },
  {
   "cell_type": "markdown",
   "id": "dc66e61e",
   "metadata": {},
   "source": [
    "# All assets"
   ]
  },
  {
   "cell_type": "code",
   "execution_count": null,
   "id": "a6722a01",
   "metadata": {},
   "outputs": [],
   "source": [
    "assets = requests.get(\n",
    "    'https://data.messari.io/api/v2/assets',\n",
    "    headers=headers\n",
    "    ).json()\n",
    "\n",
    "assets"
   ]
  },
  {
   "cell_type": "markdown",
   "id": "3077fa8b",
   "metadata": {},
   "source": [
    "# Get asset"
   ]
  },
  {
   "cell_type": "code",
   "execution_count": null,
   "id": "a1e636d7",
   "metadata": {},
   "outputs": [],
   "source": [
    "requests.get(\n",
    "    'https://data.messari.io/api/v1/assets/luna',\n",
    "    headers=headers\n",
    "    ).json()"
   ]
  },
  {
   "cell_type": "markdown",
   "id": "a67fbac4",
   "metadata": {},
   "source": [
    "# Get asset profile"
   ]
  },
  {
   "cell_type": "code",
   "execution_count": null,
   "id": "9b0ef019",
   "metadata": {},
   "outputs": [],
   "source": [
    "requests.get(\n",
    "    'https://data.messari.io/api/v1/assets/eth/profile',\n",
    "    headers=headers\n",
    "    ).json()"
   ]
  },
  {
   "cell_type": "markdown",
   "id": "c95bb5e1",
   "metadata": {},
   "source": [
    "# Asset metrics"
   ]
  },
  {
   "cell_type": "code",
   "execution_count": null,
   "id": "491f7f6b",
   "metadata": {},
   "outputs": [],
   "source": [
    "btc_metrics = pd.DataFrame(\n",
    "    requests.get(\n",
    "        'https://data.messari.io/api/v1/assets/btc/metrics',\n",
    "        headers=headers\n",
    "    ).json()\n",
    ")['data']\n",
    "\n",
    "btc_metrics"
   ]
  },
  {
   "cell_type": "code",
   "execution_count": null,
   "id": "d5ac0513",
   "metadata": {},
   "outputs": [],
   "source": [
    "btc_metrics['all_time_high']"
   ]
  },
  {
   "cell_type": "markdown",
   "id": "ae105bfd",
   "metadata": {},
   "source": [
    "# Asset time series"
   ]
  },
  {
   "cell_type": "code",
   "execution_count": null,
   "id": "3113be66",
   "metadata": {},
   "outputs": [],
   "source": [
    "historical = pd.DataFrame(\n",
    "    requests.get(\n",
    "    'https://data.messari.io/api/v1/assets/sol/metrics/price/time-series',\n",
    "    headers=headers\n",
    "    ).json()['data']['values']\n",
    ")\n",
    "\n",
    "historical.head()"
   ]
  },
  {
   "cell_type": "code",
   "execution_count": null,
   "id": "943df3c5",
   "metadata": {},
   "outputs": [],
   "source": [
    "historical.columns = ['timestamp','open','high','low','close','volume']\n",
    "\n",
    "historical.columns"
   ]
  },
  {
   "cell_type": "code",
   "execution_count": null,
   "id": "d85381cd",
   "metadata": {},
   "outputs": [],
   "source": [
    "historical['timestamp'] = pd.to_datetime(historical['timestamp'], unit='ms')\n",
    "historical.set_index('timestamp', inplace=True)\n",
    "\n",
    "historical.head()"
   ]
  },
  {
   "cell_type": "code",
   "execution_count": null,
   "id": "5ff8b91c",
   "metadata": {},
   "outputs": [],
   "source": [
    "historical['20 SMA'] = historical.close.rolling(20).mean()\n",
    "historical.tail()"
   ]
  },
  {
   "cell_type": "code",
   "execution_count": null,
   "id": "7b664fb6",
   "metadata": {},
   "outputs": [],
   "source": [
    "import plotly.graph_objects as go\n",
    "\n",
    "fig = go.Figure(data=[go.Candlestick(x = historical.index,\n",
    "                                    open = historical['open'],\n",
    "                                    high = historical['high'],\n",
    "                                    low = historical['low'],\n",
    "                                    close = historical['close'],\n",
    "                                    ),\n",
    "                     go.Scatter(x=historical.index, y=historical['20 SMA'], line=dict(color='purple', width=1))])\n",
    "\n",
    "\n",
    "fig.show()"
   ]
  },
  {
   "cell_type": "markdown",
   "id": "a0a24765",
   "metadata": {},
   "source": [
    "# All markets"
   ]
  },
  {
   "cell_type": "code",
   "execution_count": null,
   "id": "6ccc42cc",
   "metadata": {},
   "outputs": [],
   "source": [
    "requests.get(\n",
    "    'https://data.messari.io/api/v1/markets',\n",
    "    headers=headers\n",
    "    ).json()"
   ]
  },
  {
   "cell_type": "markdown",
   "id": "c28e7b15",
   "metadata": {},
   "source": [
    "# Market Time Series"
   ]
  },
  {
   "cell_type": "code",
   "execution_count": null,
   "id": "7d8b4bdf",
   "metadata": {},
   "outputs": [],
   "source": [
    "market = pd.DataFrame(\n",
    "    requests.get(\n",
    "    'https://data.messari.io/api/v1/markets/binance-btc-usdt/metrics/price/time-series',\n",
    "    headers=headers\n",
    "    ).json()['data']['values']\n",
    ")\n",
    "\n",
    "market.head()"
   ]
  },
  {
   "cell_type": "markdown",
   "id": "d7f3c637",
   "metadata": {},
   "source": [
    "# News"
   ]
  },
  {
   "cell_type": "code",
   "execution_count": null,
   "id": "b363b65a",
   "metadata": {},
   "outputs": [],
   "source": [
    "requests.get(\n",
    "    'https://data.messari.io/api/v1/news',\n",
    "    headers=headers\n",
    "    ).json()"
   ]
  },
  {
   "cell_type": "markdown",
   "id": "539341d9",
   "metadata": {},
   "source": [
    "# Asset news"
   ]
  },
  {
   "cell_type": "code",
   "execution_count": null,
   "id": "1c4e77e1",
   "metadata": {},
   "outputs": [],
   "source": [
    "requests.get(\n",
    "    'https://data.messari.io/api/v1/news/btc',\n",
    "    headers=headers\n",
    "    ).json()"
   ]
  }
 ],
 "metadata": {
  "kernelspec": {
   "display_name": "Python 3 (ipykernel)",
   "language": "python",
   "name": "python3"
  },
  "language_info": {
   "codemirror_mode": {
    "name": "ipython",
    "version": 3
   },
   "file_extension": ".py",
   "mimetype": "text/x-python",
   "name": "python",
   "nbconvert_exporter": "python",
   "pygments_lexer": "ipython3",
   "version": "3.8.8"
  }
 },
 "nbformat": 4,
 "nbformat_minor": 5
}
